{
 "cells": [
  {
   "cell_type": "code",
   "execution_count": 1,
   "metadata": {},
   "outputs": [
    {
     "name": "stderr",
     "output_type": "stream",
     "text": [
      "C:\\Users\\salut\\AppData\\Local\\Temp\\ipykernel_33428\\3231519513.py:1: DeprecationWarning: \n",
      "Pyarrow will become a required dependency of pandas in the next major release of pandas (pandas 3.0),\n",
      "(to allow more performant data types, such as the Arrow string type, and better interoperability with other libraries)\n",
      "but was not found to be installed on your system.\n",
      "If this would cause problems for you,\n",
      "please provide us feedback at https://github.com/pandas-dev/pandas/issues/54466\n",
      "        \n",
      "  import pandas as pd\n"
     ]
    }
   ],
   "source": [
    "import pandas as pd\n",
    "import mysql.connector"
   ]
  },
  {
   "cell_type": "markdown",
   "metadata": {},
   "source": [
    "criação da tabela no sql para os dados 2010 a 2019"
   ]
  },
  {
   "cell_type": "code",
   "execution_count": 2,
   "metadata": {},
   "outputs": [],
   "source": [
    "file_path = \"C:/Users/salut/Desktop/MBA_CD/artigo_final/indicadores_fluxo_ES_todos_os_anos/indicadores_trajetoria_educacao_superior_2010_2019.xlsx\""
   ]
  },
  {
   "cell_type": "code",
   "execution_count": 3,
   "metadata": {},
   "outputs": [],
   "source": [
    "df = pd.read_excel(file_path, header=8)"
   ]
  },
  {
   "cell_type": "code",
   "execution_count": 4,
   "metadata": {},
   "outputs": [],
   "source": [
    "# Excluir linhas que contêm qualquer NaN\n",
    "df.dropna(inplace=True)"
   ]
  },
  {
   "cell_type": "code",
   "execution_count": 5,
   "metadata": {},
   "outputs": [],
   "source": [
    "# Substitua pelos seus dados de conexão\n",
    "config = {\n",
    "    'user': 'root',\n",
    "    'password': 'Rio1de2janeiro!',\n",
    "    'host': 'localhost',\n",
    "    'database': 'indicadores_es'\n",
    "}"
   ]
  },
  {
   "cell_type": "code",
   "execution_count": 6,
   "metadata": {},
   "outputs": [],
   "source": [
    "# Conecta ao banco de dados\n",
    "conn = mysql.connector.connect(**config)\n",
    "cursor = conn.cursor()"
   ]
  },
  {
   "cell_type": "code",
   "execution_count": 7,
   "metadata": {},
   "outputs": [],
   "source": [
    "# Gerar a query de criação de tabela\n",
    "table_name = 'indicadores_2010_2019'\n",
    "columns = df.columns"
   ]
  },
  {
   "cell_type": "code",
   "execution_count": 8,
   "metadata": {},
   "outputs": [],
   "source": [
    "create_table_query = f\"CREATE TABLE {table_name} (\"\n",
    "for col in columns:\n",
    "    create_table_query += f\"{col} TEXT,\"\n",
    "create_table_query = create_table_query.rstrip(',') + \");\"\n",
    "\n",
    "cursor.execute(create_table_query)\n",
    "conn.commit()"
   ]
  },
  {
   "cell_type": "code",
   "execution_count": 9,
   "metadata": {},
   "outputs": [],
   "source": [
    "# Gerar a query de inserção\n",
    "insert_query = f\"INSERT INTO {table_name} ({', '.join(columns)}) VALUES ({', '.join(['%s'] * len(columns))})\"\n",
    "\n",
    "# Inserir os dados\n",
    "for i, row in df.iterrows():\n",
    "    cursor.execute(insert_query, tuple(row))\n",
    "\n",
    "# Confirmar as inserções\n",
    "conn.commit()\n",
    "\n",
    "# Fechar a conexão\n",
    "cursor.close()\n",
    "conn.close()"
   ]
  },
  {
   "cell_type": "markdown",
   "metadata": {},
   "source": [
    "criação da tabela no sql para 2011 a 2020"
   ]
  },
  {
   "cell_type": "code",
   "execution_count": 10,
   "metadata": {},
   "outputs": [],
   "source": [
    "file_path = \"C:/Users/salut/Desktop/MBA_CD/artigo_final/indicadores_fluxo_ES_todos_os_anos/indicadores_trajetoria_educacao_superior_2011_2020.xlsx\""
   ]
  },
  {
   "cell_type": "code",
   "execution_count": 11,
   "metadata": {},
   "outputs": [],
   "source": [
    "df = pd.read_excel(file_path, header=8)\n",
    "# Excluir linhas que contêm qualquer NaN\n",
    "df.dropna(inplace=True)"
   ]
  },
  {
   "cell_type": "code",
   "execution_count": 12,
   "metadata": {},
   "outputs": [],
   "source": [
    "# Substitua pelos seus dados de conexão\n",
    "config = {\n",
    "    'user': 'root',\n",
    "    'password': 'Rio1de2janeiro!',\n",
    "    'host': 'localhost',\n",
    "    'database': 'indicadores_es'\n",
    "}"
   ]
  },
  {
   "cell_type": "code",
   "execution_count": 13,
   "metadata": {},
   "outputs": [],
   "source": [
    "# Conecta ao banco de dados\n",
    "conn = mysql.connector.connect(**config)\n",
    "cursor = conn.cursor()"
   ]
  },
  {
   "cell_type": "code",
   "execution_count": 14,
   "metadata": {},
   "outputs": [],
   "source": [
    "# Gerar a query de criação de tabela\n",
    "table_name = 'indicadores_2011_2020'\n",
    "columns = df.columns"
   ]
  },
  {
   "cell_type": "code",
   "execution_count": 15,
   "metadata": {},
   "outputs": [],
   "source": [
    "create_table_query = f\"CREATE TABLE {table_name} (\"\n",
    "for col in columns:\n",
    "    create_table_query += f\"{col} TEXT,\"\n",
    "create_table_query = create_table_query.rstrip(',') + \");\"\n",
    "\n",
    "cursor.execute(create_table_query)\n",
    "conn.commit()"
   ]
  },
  {
   "cell_type": "code",
   "execution_count": 16,
   "metadata": {},
   "outputs": [],
   "source": [
    "# Gerar a query de inserção\n",
    "insert_query = f\"INSERT INTO {table_name} ({', '.join(columns)}) VALUES ({', '.join(['%s'] * len(columns))})\"\n",
    "\n",
    "# Inserir os dados\n",
    "for i, row in df.iterrows():\n",
    "    cursor.execute(insert_query, tuple(row))\n",
    "\n",
    "# Confirmar as inserções\n",
    "conn.commit()\n",
    "\n",
    "# Fechar a conexão\n",
    "cursor.close()\n",
    "conn.close()"
   ]
  },
  {
   "cell_type": "markdown",
   "metadata": {},
   "source": [
    "criação da tabela no sql para 2012 a 2021"
   ]
  },
  {
   "cell_type": "code",
   "execution_count": 17,
   "metadata": {},
   "outputs": [],
   "source": [
    "file_path = \"C:/Users/salut/Desktop/MBA_CD/artigo_final/indicadores_fluxo_ES_todos_os_anos/indicadores_trajetoria_educacao_superior_2012_2021.xlsx\""
   ]
  },
  {
   "cell_type": "code",
   "execution_count": 18,
   "metadata": {},
   "outputs": [],
   "source": [
    "df = pd.read_excel(file_path, header=8)\n",
    "# Excluir linhas que contêm qualquer NaN\n",
    "df.dropna(inplace=True)\n",
    "# Substitua pelos seus dados de conexão\n",
    "config = {\n",
    "    'user': 'root',\n",
    "    'password': 'Rio1de2janeiro!',\n",
    "    'host': 'localhost',\n",
    "    'database': 'indicadores_es'\n",
    "}\n",
    "# Conecta ao banco de dados\n",
    "conn = mysql.connector.connect(**config)\n",
    "cursor = conn.cursor()"
   ]
  },
  {
   "cell_type": "code",
   "execution_count": 19,
   "metadata": {},
   "outputs": [],
   "source": [
    "# Gerar a query de criação de tabela\n",
    "table_name = 'indicadores_2012_2021'\n",
    "columns = df.columns\n",
    "create_table_query = f\"CREATE TABLE {table_name} (\"\n",
    "for col in columns:\n",
    "    create_table_query += f\"{col} TEXT,\"\n",
    "create_table_query = create_table_query.rstrip(',') + \");\"\n",
    "\n",
    "cursor.execute(create_table_query)\n",
    "conn.commit()\n",
    "# Gerar a query de inserção\n",
    "insert_query = f\"INSERT INTO {table_name} ({', '.join(columns)}) VALUES ({', '.join(['%s'] * len(columns))})\"\n",
    "\n",
    "# Inserir os dados\n",
    "for i, row in df.iterrows():\n",
    "    cursor.execute(insert_query, tuple(row))\n",
    "\n",
    "# Confirmar as inserções\n",
    "conn.commit()\n",
    "\n",
    "# Fechar a conexão\n",
    "cursor.close()\n",
    "conn.close()"
   ]
  },
  {
   "cell_type": "markdown",
   "metadata": {},
   "source": [
    "criação da tabela no sql para 2013 a 2021"
   ]
  },
  {
   "cell_type": "code",
   "execution_count": 20,
   "metadata": {},
   "outputs": [],
   "source": [
    "file_path = \"C:/Users/salut/Desktop/MBA_CD/artigo_final/indicadores_fluxo_ES_todos_os_anos/indicadores_trajetoria_educacao_superior_2013_2021.xlsx\""
   ]
  },
  {
   "cell_type": "code",
   "execution_count": 21,
   "metadata": {},
   "outputs": [],
   "source": [
    "df = pd.read_excel(file_path, header=8)\n",
    "# Excluir linhas que contêm qualquer NaN\n",
    "df.dropna(inplace=True)\n",
    "# Substitua pelos seus dados de conexão\n",
    "config = {\n",
    "    'user': 'root',\n",
    "    'password': 'Rio1de2janeiro!',\n",
    "    'host': 'localhost',\n",
    "    'database': 'indicadores_es'\n",
    "}\n",
    "# Conecta ao banco de dados\n",
    "conn = mysql.connector.connect(**config)\n",
    "cursor = conn.cursor()"
   ]
  },
  {
   "cell_type": "code",
   "execution_count": 22,
   "metadata": {},
   "outputs": [],
   "source": [
    "# Gerar a query de criação de tabela\n",
    "table_name = 'indicadores_2013_2021'\n",
    "columns = df.columns\n",
    "create_table_query = f\"CREATE TABLE {table_name} (\"\n",
    "for col in columns:\n",
    "    create_table_query += f\"{col} TEXT,\"\n",
    "create_table_query = create_table_query.rstrip(',') + \");\"\n",
    "\n",
    "cursor.execute(create_table_query)\n",
    "conn.commit()\n",
    "# Gerar a query de inserção\n",
    "insert_query = f\"INSERT INTO {table_name} ({', '.join(columns)}) VALUES ({', '.join(['%s'] * len(columns))})\"\n",
    "\n",
    "# Inserir os dados\n",
    "for i, row in df.iterrows():\n",
    "    cursor.execute(insert_query, tuple(row))\n",
    "\n",
    "# Confirmar as inserções\n",
    "conn.commit()\n",
    "\n",
    "# Fechar a conexão\n",
    "cursor.close()\n",
    "conn.close()"
   ]
  },
  {
   "cell_type": "markdown",
   "metadata": {},
   "source": [
    "criação da tabela no sql para 2014 a 2021"
   ]
  },
  {
   "cell_type": "code",
   "execution_count": 23,
   "metadata": {},
   "outputs": [],
   "source": [
    "file_path = \"C:/Users/salut/Desktop/MBA_CD/artigo_final/indicadores_fluxo_ES_todos_os_anos/indicadores_trajetoria_educacao_superior_2014_2021.xlsx\""
   ]
  },
  {
   "cell_type": "code",
   "execution_count": 24,
   "metadata": {},
   "outputs": [],
   "source": [
    "df = pd.read_excel(file_path, header=8)\n",
    "# Excluir linhas que contêm qualquer NaN\n",
    "df.dropna(inplace=True)\n",
    "# Substitua pelos seus dados de conexão\n",
    "config = {\n",
    "    'user': 'root',\n",
    "    'password': 'Rio1de2janeiro!',\n",
    "    'host': 'localhost',\n",
    "    'database': 'indicadores_es'\n",
    "}\n",
    "# Conecta ao banco de dados\n",
    "conn = mysql.connector.connect(**config)\n",
    "cursor = conn.cursor()"
   ]
  },
  {
   "cell_type": "code",
   "execution_count": 25,
   "metadata": {},
   "outputs": [],
   "source": [
    "# Gerar a query de criação de tabela\n",
    "table_name = 'indicadores_2014_2021'\n",
    "columns = df.columns\n",
    "create_table_query = f\"CREATE TABLE {table_name} (\"\n",
    "for col in columns:\n",
    "    create_table_query += f\"{col} TEXT,\"\n",
    "create_table_query = create_table_query.rstrip(',') + \");\"\n",
    "\n",
    "cursor.execute(create_table_query)\n",
    "conn.commit()\n",
    "# Gerar a query de inserção\n",
    "insert_query = f\"INSERT INTO {table_name} ({', '.join(columns)}) VALUES ({', '.join(['%s'] * len(columns))})\"\n",
    "\n",
    "# Inserir os dados\n",
    "for i, row in df.iterrows():\n",
    "    cursor.execute(insert_query, tuple(row))\n",
    "\n",
    "# Confirmar as inserções\n",
    "conn.commit()\n",
    "\n",
    "# Fechar a conexão\n",
    "cursor.close()\n",
    "conn.close()"
   ]
  },
  {
   "cell_type": "markdown",
   "metadata": {},
   "source": [
    "criação da tabela no sql para 2015 a 2021"
   ]
  },
  {
   "cell_type": "code",
   "execution_count": 26,
   "metadata": {},
   "outputs": [],
   "source": [
    "file_path = \"C:/Users/salut/Desktop/MBA_CD/artigo_final/indicadores_fluxo_ES_todos_os_anos/indicadores_trajetoria_educacao_superior_2015_2021.xlsx\""
   ]
  },
  {
   "cell_type": "code",
   "execution_count": 27,
   "metadata": {},
   "outputs": [],
   "source": [
    "df = pd.read_excel(file_path, header=8)\n",
    "# Excluir linhas que contêm qualquer NaN\n",
    "df.dropna(inplace=True)\n",
    "# Substitua pelos seus dados de conexão\n",
    "config = {\n",
    "    'user': 'root',\n",
    "    'password': 'Rio1de2janeiro!',\n",
    "    'host': 'localhost',\n",
    "    'database': 'indicadores_es'\n",
    "}\n",
    "# Conecta ao banco de dados\n",
    "conn = mysql.connector.connect(**config)\n",
    "cursor = conn.cursor()"
   ]
  },
  {
   "cell_type": "code",
   "execution_count": 28,
   "metadata": {},
   "outputs": [],
   "source": [
    "# Gerar a query de criação de tabela\n",
    "table_name = 'indicadores_2015_2021'\n",
    "columns = df.columns\n",
    "create_table_query = f\"CREATE TABLE {table_name} (\"\n",
    "for col in columns:\n",
    "    create_table_query += f\"{col} TEXT,\"\n",
    "create_table_query = create_table_query.rstrip(',') + \");\"\n",
    "\n",
    "cursor.execute(create_table_query)\n",
    "conn.commit()\n",
    "# Gerar a query de inserção\n",
    "insert_query = f\"INSERT INTO {table_name} ({', '.join(columns)}) VALUES ({', '.join(['%s'] * len(columns))})\"\n",
    "\n",
    "# Inserir os dados\n",
    "for i, row in df.iterrows():\n",
    "    cursor.execute(insert_query, tuple(row))\n",
    "\n",
    "# Confirmar as inserções\n",
    "conn.commit()\n",
    "\n",
    "# Fechar a conexão\n",
    "cursor.close()\n",
    "conn.close()"
   ]
  },
  {
   "cell_type": "markdown",
   "metadata": {},
   "source": [
    "criação da tabela no sql para 2016 a 2022"
   ]
  },
  {
   "cell_type": "code",
   "execution_count": 31,
   "metadata": {},
   "outputs": [],
   "source": [
    "file_path = \"C:/Users/salut/Desktop/MBA_CD/artigo_final/indicadores_fluxo_ES_todos_os_anos/indicadores_trajetoria_educacao_superior_2016_2022.xlsx\""
   ]
  },
  {
   "cell_type": "code",
   "execution_count": 32,
   "metadata": {},
   "outputs": [],
   "source": [
    "df = pd.read_excel(file_path, header=8)\n",
    "# Excluir linhas que contêm qualquer NaN\n",
    "df.dropna(inplace=True)\n",
    "# Substitua pelos seus dados de conexão\n",
    "config = {\n",
    "    'user': 'root',\n",
    "    'password': 'Rio1de2janeiro!',\n",
    "    'host': 'localhost',\n",
    "    'database': 'indicadores_es'\n",
    "}\n",
    "# Conecta ao banco de dados\n",
    "conn = mysql.connector.connect(**config)\n",
    "cursor = conn.cursor()"
   ]
  },
  {
   "cell_type": "code",
   "execution_count": 33,
   "metadata": {},
   "outputs": [],
   "source": [
    "# Gerar a query de criação de tabela\n",
    "table_name = 'indicadores_2016_2022'\n",
    "columns = df.columns\n",
    "create_table_query = f\"CREATE TABLE {table_name} (\"\n",
    "for col in columns:\n",
    "    create_table_query += f\"{col} TEXT,\"\n",
    "create_table_query = create_table_query.rstrip(',') + \");\"\n",
    "\n",
    "cursor.execute(create_table_query)\n",
    "conn.commit()\n",
    "# Gerar a query de inserção\n",
    "insert_query = f\"INSERT INTO {table_name} ({', '.join(columns)}) VALUES ({', '.join(['%s'] * len(columns))})\"\n",
    "\n",
    "# Inserir os dados\n",
    "for i, row in df.iterrows():\n",
    "    cursor.execute(insert_query, tuple(row))\n",
    "\n",
    "# Confirmar as inserções\n",
    "conn.commit()\n",
    "\n",
    "# Fechar a conexão\n",
    "cursor.close()\n",
    "conn.close()"
   ]
  },
  {
   "cell_type": "markdown",
   "metadata": {},
   "source": [
    "criação da tabela no sql para 2017 a 2022"
   ]
  },
  {
   "cell_type": "code",
   "execution_count": 34,
   "metadata": {},
   "outputs": [],
   "source": [
    "file_path = \"C:/Users/salut/Desktop/MBA_CD/artigo_final/indicadores_fluxo_ES_todos_os_anos/indicadores_trajetoria_educacao_superior_2017_2022.xlsx\""
   ]
  },
  {
   "cell_type": "code",
   "execution_count": 35,
   "metadata": {},
   "outputs": [],
   "source": [
    "df = pd.read_excel(file_path, header=8)\n",
    "# Excluir linhas que contêm qualquer NaN\n",
    "df.dropna(inplace=True)\n",
    "# Substitua pelos seus dados de conexão\n",
    "config = {\n",
    "    'user': 'root',\n",
    "    'password': 'Rio1de2janeiro!',\n",
    "    'host': 'localhost',\n",
    "    'database': 'indicadores_es'\n",
    "}\n",
    "# Conecta ao banco de dados\n",
    "conn = mysql.connector.connect(**config)\n",
    "cursor = conn.cursor()"
   ]
  },
  {
   "cell_type": "code",
   "execution_count": 36,
   "metadata": {},
   "outputs": [],
   "source": [
    "# Gerar a query de criação de tabela\n",
    "table_name = 'indicadores_2017_2022'\n",
    "columns = df.columns\n",
    "create_table_query = f\"CREATE TABLE {table_name} (\"\n",
    "for col in columns:\n",
    "    create_table_query += f\"{col} TEXT,\"\n",
    "create_table_query = create_table_query.rstrip(',') + \");\"\n",
    "\n",
    "cursor.execute(create_table_query)\n",
    "conn.commit()\n",
    "# Gerar a query de inserção\n",
    "insert_query = f\"INSERT INTO {table_name} ({', '.join(columns)}) VALUES ({', '.join(['%s'] * len(columns))})\"\n",
    "\n",
    "# Inserir os dados\n",
    "for i, row in df.iterrows():\n",
    "    cursor.execute(insert_query, tuple(row))\n",
    "\n",
    "# Confirmar as inserções\n",
    "conn.commit()\n",
    "\n",
    "# Fechar a conexão\n",
    "cursor.close()\n",
    "conn.close()"
   ]
  },
  {
   "cell_type": "markdown",
   "metadata": {},
   "source": [
    "criação da tabela no sql para 2018 a 2022"
   ]
  },
  {
   "cell_type": "code",
   "execution_count": 37,
   "metadata": {},
   "outputs": [],
   "source": [
    "file_path = \"C:/Users/salut/Desktop/MBA_CD/artigo_final/indicadores_fluxo_ES_todos_os_anos/indicadores_trajetoria_educacao_superior_2018_2022.xlsx\""
   ]
  },
  {
   "cell_type": "code",
   "execution_count": 38,
   "metadata": {},
   "outputs": [],
   "source": [
    "df = pd.read_excel(file_path, header=8)\n",
    "# Excluir linhas que contêm qualquer NaN\n",
    "df.dropna(inplace=True)\n",
    "# Substitua pelos seus dados de conexão\n",
    "config = {\n",
    "    'user': 'root',\n",
    "    'password': 'Rio1de2janeiro!',\n",
    "    'host': 'localhost',\n",
    "    'database': 'indicadores_es'\n",
    "}\n",
    "# Conecta ao banco de dados\n",
    "conn = mysql.connector.connect(**config)\n",
    "cursor = conn.cursor()"
   ]
  },
  {
   "cell_type": "code",
   "execution_count": 39,
   "metadata": {},
   "outputs": [],
   "source": [
    "# Gerar a query de criação de tabela\n",
    "table_name = 'indicadores_2018_2022'\n",
    "columns = df.columns\n",
    "create_table_query = f\"CREATE TABLE {table_name} (\"\n",
    "for col in columns:\n",
    "    create_table_query += f\"{col} TEXT,\"\n",
    "create_table_query = create_table_query.rstrip(',') + \");\"\n",
    "\n",
    "cursor.execute(create_table_query)\n",
    "conn.commit()\n",
    "# Gerar a query de inserção\n",
    "insert_query = f\"INSERT INTO {table_name} ({', '.join(columns)}) VALUES ({', '.join(['%s'] * len(columns))})\"\n",
    "\n",
    "# Inserir os dados\n",
    "for i, row in df.iterrows():\n",
    "    cursor.execute(insert_query, tuple(row))\n",
    "\n",
    "# Confirmar as inserções\n",
    "conn.commit()\n",
    "\n",
    "# Fechar a conexão\n",
    "cursor.close()\n",
    "conn.close()"
   ]
  }
 ],
 "metadata": {
  "kernelspec": {
   "display_name": "Python 3",
   "language": "python",
   "name": "python3"
  },
  "language_info": {
   "codemirror_mode": {
    "name": "ipython",
    "version": 3
   },
   "file_extension": ".py",
   "mimetype": "text/x-python",
   "name": "python",
   "nbconvert_exporter": "python",
   "pygments_lexer": "ipython3",
   "version": "3.12.1"
  }
 },
 "nbformat": 4,
 "nbformat_minor": 2
}
